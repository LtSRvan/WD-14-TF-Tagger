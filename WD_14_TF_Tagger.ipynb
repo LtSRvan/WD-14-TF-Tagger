{
  "nbformat": 4,
  "nbformat_minor": 0,
  "metadata": {
    "colab": {
      "provenance": [],
      "gpuType": "T4"
    },
    "kernelspec": {
      "name": "python3",
      "display_name": "Python 3"
    },
    "language_info": {
      "name": "python"
    },
    "accelerator": "GPU",
    "gpuClass": "standard"
  },
  "cells": [
    {
      "cell_type": "markdown",
      "source": [
        "# Installing dependencies and conecting Google Drive"
      ],
      "metadata": {
        "id": "PUxMzFP-Oxt6"
      }
    },
    {
      "cell_type": "code",
      "execution_count": null,
      "metadata": {
        "id": "K0c_M-npOvQS"
      },
      "outputs": [],
      "source": [
        "from google.colab import drive\n",
        "drive.mount('/content/drive')"
      ]
    },
    {
      "cell_type": "code",
      "source": [
        "!git clone https://github.com/LtSRvan/WD-14-TF-Tagger\n",
        "%cd WD-14-TF-Tagger\n",
        "!pip install -r requirements.txt"
      ],
      "metadata": {
        "id": "bUFPlUh_O1nf"
      },
      "execution_count": null,
      "outputs": []
    },
    {
      "cell_type": "markdown",
      "source": [
        "# Running the code"
      ],
      "metadata": {
        "id": "f_Tf58_cO6hW"
      }
    },
    {
      "cell_type": "code",
      "source": [
        "#@title Select a model\n",
        "#@markdown Choose one of the models of the list, the avaliable models are:\n",
        "#@markdown * SwinV2\n",
        "#@markdown * ConvNext\n",
        "#@markdown * ConvNextV2\n",
        "#@markdown * ViTv2\n",
        "MODEL_NAME = \"SwinV2\" #@param [\"SwinV2\", \"ConvNextV2\", \"ConvNextV2\", \"ViTv2\"] {allow-input: false}\n",
        "\n",
        "#@markdown For now if it is the first time that you use a specific model you have to check this option, otherwise it will no work, once its downloaded you can un-check this so it doesn't re-download the files again\n",
        "\n",
        "DOWNLOAD_MODEL = False #@param {type: \"boolean\"}\n",
        "\n",
        "#@markdown Put the path of your images folder\n",
        "\n",
        "INPUT = \"\" #@param{type: 'string'}\n",
        "\n",
        "#@markdown If you want the txt files in another folder use this option, if the directory doesn't exist it will create it for you. By default the output of the tags is the same as the input folder\n",
        "\n",
        "OUTPUT = \"\" #@param{type: 'string'}\n",
        "\n",
        "#@markdown  **Extras**\n",
        "\n",
        "#@markdown By default the script will use a batch size of 32 but Google Colab is able to handle up to 45 batch size on the free tier so it will be the default value but you are free to change it to any other value\n",
        "\n",
        "BATCH_SIZE = \"45\" #@param [45] {allow-input: true}\n",
        "\n",
        "#@markdown You can add an initial keyword, a final keyword or both (refer to github page to se the use case), just write your text\n",
        "\n",
        "INITIAL_STRING = \"\" #@param {type: 'string'}\n",
        "\n",
        "FINAL_STRING = \"\" #@param {type: 'string'}\n",
        "\n",
        "#@markdown **General Score and Character Score**\n",
        "\n",
        "#@markdown Most of the time you probably are only going to change the General Score value, you'll have to test what value works better for you\n",
        "GENERAL_SCORE= 0.5 #@param {type:\"slider\", min:0, max:1, step:0.05}\n",
        "\n",
        "#@markdown For more info about how it could affect this option see the example on the github repo https://github.com/LtSRvan/WD-14-TF-Tagger\n",
        "CHARACTER_SCORE= 0.85 #@param {type:\"slider\", min:0, max:1, step:0.05}\n",
        "\n",
        "if INITIAL_STRING:\n",
        "  INITIAL_STRING = \"--add_initial_keyword \" + INITIAL_STRING\n",
        "if FINAL_STRING:\n",
        "  FINAL_STRING = \"--add_final_keyword \" + FINAL_STRING\n",
        "\n",
        "download = \"\"\n",
        "if DOWNLOAD_MODEL:\n",
        "  download = \"--download\"\n",
        "\n",
        "if GENERAL_SCORE:\n",
        "  GENERAL_SCORE = \"--general_score \" + str(GENERAL_SCORE)\n",
        "if {CHARACTER_SCORE}:\n",
        "  CHARACTER_SCORE = \"--character_score \" + str(CHARACTER_SCORE)\n",
        "\n",
        "command = f\"\"\"python tagger.py --input {INPUT} \\\n",
        "  {INITIAL_STRING} \\\n",
        "  {FINAL_STRING} \\\n",
        "  {download} \\\n",
        "  {GENERAL_SCORE} \\\n",
        "  {CHARACTER_SCORE} \\\n",
        "  --model {MODEL_NAME} \\\n",
        "  --output {OUTPUT} \\\n",
        "  --batch_size {BATCH_SIZE}\"\"\"\n",
        "\n",
        "!{command}"
      ],
      "metadata": {
        "id": "1wFqTCNDO9_G",
        "cellView": "form"
      },
      "execution_count": null,
      "outputs": []
    }
  ]
}